{
 "cells": [
  {
   "cell_type": "code",
   "execution_count": 1,
   "metadata": {},
   "outputs": [
    {
     "name": "stdout",
     "output_type": "stream",
     "text": [
      "[nltk_data] Downloading package wordnet to /home/xiaojing/nltk_data...\n",
      "[nltk_data]   Package wordnet is already up-to-date!\n",
      "=> loading checkpoint 'eriqg_best.pth.tar'\n",
      "=> loaded checkpoint 'eriqg_best.pth.tar' (epoch 1)\n",
      "dev set\n",
      "Test: [49/527]\tC-BLEU 0.4735 (0.4597)  C-NIST 4.6369 (4.8813)  ROUGH-L 0.7526 (0.7363)  C-METEOR 0.7890 (0.7544)\tTime 0.339 (0.000)\t\n",
      "Test: [99/527]\tC-BLEU 0.4040 (0.4641)  C-NIST 4.3842 (4.9153)  ROUGH-L 0.6610 (0.7349)  C-METEOR 0.6763 (0.7597)\tTime 0.326 (0.000)\t\n",
      "Test: [149/527]\tC-BLEU 0.4750 (0.4689)  C-NIST 4.7486 (4.9118)  ROUGH-L 0.7244 (0.7347)  C-METEOR 0.7254 (0.7591)\tTime 0.340 (0.000)\t\n",
      "Test: [199/527]\tC-BLEU 0.6050 (0.4756)  C-NIST 5.6761 (5.0021)  ROUGH-L 0.8052 (0.7375)  C-METEOR 0.8296 (0.7623)\tTime 0.349 (0.000)\t\n",
      "Test: [249/527]\tC-BLEU 0.4799 (0.4782)  C-NIST 5.4608 (5.0603)  ROUGH-L 0.7521 (0.7373)  C-METEOR 0.7636 (0.7629)\tTime 0.386 (0.000)\t\n",
      "Test: [299/527]\tC-BLEU 0.5923 (0.4839)  C-NIST 5.5814 (5.1142)  ROUGH-L 0.8026 (0.7399)  C-METEOR 0.8647 (0.7646)\tTime 0.342 (0.000)\t\n",
      "Test: [349/527]\tC-BLEU 0.4031 (0.4875)  C-NIST 4.7673 (5.1527)  ROUGH-L 0.7108 (0.7414)  C-METEOR 0.7430 (0.7656)\tTime 0.346 (0.000)\t\n",
      "Test: [399/527]\tC-BLEU 0.4325 (0.4860)  C-NIST 5.3829 (5.1481)  ROUGH-L 0.7335 (0.7406)  C-METEOR 0.7368 (0.7665)\tTime 0.333 (0.000)\t\n",
      "Test: [449/527]\tC-BLEU 0.5597 (0.4856)  C-NIST 5.4766 (5.1559)  ROUGH-L 0.7722 (0.7402)  C-METEOR 0.7944 (0.7665)\tTime 0.340 (0.000)\t\n",
      "Test: [499/527]\tC-BLEU 0.4081 (0.4838)  C-NIST 4.7676 (5.1496)  ROUGH-L 0.7360 (0.7390)  C-METEOR 0.7905 (0.7661)\tTime 0.402 (0.000)\t\n",
      "Test: [526/527]\tC-BLEU 0.3995 (0.4816)  C-NIST 4.5250 (5.1401)  ROUGH-L 0.6890 (0.7381)  C-METEOR 0.7557 (0.7655)\tTime 0.282 (0.000)\t\n",
      "test set\n",
      "Test: [22/993]\tC-BLEU 0.4307 (0.4388)  C-NIST 4.6164 (4.6880)  ROUGH-L 0.7267 (0.7214)  C-METEOR 0.7723 (0.7526)\tTime 0.340 (0.000)\t\n",
      "Test: [72/993]\tC-BLEU 0.5813 (0.4553)  C-NIST 5.6082 (4.8357)  ROUGH-L 0.8388 (0.7336)  C-METEOR 0.8578 (0.7589)\tTime 0.382 (0.000)\t\n",
      "Test: [122/993]\tC-BLEU 0.3898 (0.4681)  C-NIST 4.7546 (4.9293)  ROUGH-L 0.7171 (0.7435)  C-METEOR 0.7595 (0.7661)\tTime 0.332 (0.000)\t\n",
      "Test: [172/993]\tC-BLEU 0.5734 (0.4754)  C-NIST 5.3470 (4.9585)  ROUGH-L 0.8158 (0.7466)  C-METEOR 0.8357 (0.7698)\tTime 0.338 (0.000)\t\n",
      "Test: [222/993]\tC-BLEU 0.4261 (0.4798)  C-NIST 4.3514 (4.9699)  ROUGH-L 0.7192 (0.7472)  C-METEOR 0.7683 (0.7716)\tTime 0.421 (0.000)\t\n",
      "Test: [272/993]\tC-BLEU 0.6507 (0.4818)  C-NIST 5.8322 (4.9857)  ROUGH-L 0.8419 (0.7477)  C-METEOR 0.8319 (0.7720)\tTime 0.337 (0.000)\t\n",
      "Test: [322/993]\tC-BLEU 0.5281 (0.4839)  C-NIST 5.4001 (5.0218)  ROUGH-L 0.7751 (0.7481)  C-METEOR 0.7928 (0.7743)\tTime 0.353 (0.000)\t\n",
      "Test: [372/993]\tC-BLEU 0.5853 (0.4847)  C-NIST 5.8293 (5.0540)  ROUGH-L 0.8024 (0.7468)  C-METEOR 0.8450 (0.7748)\tTime 0.356 (0.000)\t\n",
      "Test: [422/993]\tC-BLEU 0.3949 (0.4850)  C-NIST 4.8204 (5.0706)  ROUGH-L 0.6795 (0.7455)  C-METEOR 0.6827 (0.7742)\tTime 0.372 (0.000)\t\n",
      "Test: [472/993]\tC-BLEU 0.4411 (0.4866)  C-NIST 5.1613 (5.1056)  ROUGH-L 0.6911 (0.7453)  C-METEOR 0.7397 (0.7741)\tTime 0.354 (0.000)\t\n",
      "Test: [522/993]\tC-BLEU 0.7180 (0.4925)  C-NIST 6.0192 (5.1490)  ROUGH-L 0.8454 (0.7475)  C-METEOR 0.8483 (0.7757)\tTime 0.367 (0.000)\t\n",
      "Test: [572/993]\tC-BLEU 0.5148 (0.4962)  C-NIST 5.0092 (5.1719)  ROUGH-L 0.7525 (0.7491)  C-METEOR 0.8165 (0.7772)\tTime 0.373 (0.000)\t\n",
      "Test: [622/993]\tC-BLEU 0.6186 (0.5000)  C-NIST 5.7282 (5.1962)  ROUGH-L 0.8133 (0.7510)  C-METEOR 0.8282 (0.7784)\tTime 0.349 (0.000)\t\n",
      "Test: [672/993]\tC-BLEU 0.5973 (0.4997)  C-NIST 5.3319 (5.2028)  ROUGH-L 0.8198 (0.7507)  C-METEOR 0.8407 (0.7784)\tTime 0.338 (0.000)\t\n",
      "Test: [722/993]\tC-BLEU 0.5024 (0.4985)  C-NIST 5.3313 (5.2039)  ROUGH-L 0.7582 (0.7496)  C-METEOR 0.7559 (0.7776)\tTime 0.364 (0.000)\t\n",
      "Test: [772/993]\tC-BLEU 0.5632 (0.4975)  C-NIST 5.7069 (5.2039)  ROUGH-L 0.7889 (0.7491)  C-METEOR 0.8080 (0.7772)\tTime 0.421 (0.000)\t\n",
      "Test: [822/993]\tC-BLEU 0.6448 (0.4993)  C-NIST 6.0516 (5.2164)  ROUGH-L 0.8299 (0.7500)  C-METEOR 0.8629 (0.7780)\tTime 0.355 (0.000)\t\n",
      "Test: [872/993]\tC-BLEU 0.5475 (0.5001)  C-NIST 5.7130 (5.2241)  ROUGH-L 0.7851 (0.7502)  C-METEOR 0.7929 (0.7784)\tTime 0.346 (0.000)\t\n",
      "Test: [922/993]\tC-BLEU 0.4398 (0.4995)  C-NIST 5.0212 (5.2208)  ROUGH-L 0.7123 (0.7497)  C-METEOR 0.7424 (0.7780)\tTime 0.357 (0.000)\t\n",
      "Test: [972/993]\tC-BLEU 0.5130 (0.4989)  C-NIST 5.5312 (5.2191)  ROUGH-L 0.7507 (0.7496)  C-METEOR 0.7698 (0.7780)\tTime 0.352 (0.000)\t\n",
      "Test: [992/993]\tC-BLEU 0.0956 (0.4987)  C-NIST 2.6659 (5.2204)  ROUGH-L 0.5075 (0.7494)  C-METEOR 0.5784 (0.7778)\tTime 0.270 (0.000)\t\n"
     ]
    }
   ],
   "source": [
    "!CUDA_VISIBLE_DEVICES=0 python evaluation.py --batch_size=16 --teacher_forcing_fraction 0.0 --resume eriqg_best.pth.tar"
   ]
  },
  {
   "cell_type": "code",
   "execution_count": null,
   "metadata": {},
   "outputs": [
    {
     "name": "stdout",
     "output_type": "stream",
     "text": [
      "Epoch: [0][49/1762]\tEit 50  lr 0.001  KL Loss 0.0276 (0.1687)  CE Loss 4.9965 (6.5005)  C-BLEU 0.0595 (0.0197)\tTime 1.214 (0.000)\tData 0.007 (0.000)\t\n",
      "Epoch: [0][99/1762]\tEit 100  lr 0.001  KL Loss 0.0126 (0.0921)  CE Loss 4.5245 (5.5420)  C-BLEU 0.0776 (0.0416)\tTime 1.189 (0.000)\tData 0.008 (0.000)\t\n",
      "Epoch: [0][149/1762]\tEit 150  lr 0.001  KL Loss 0.0160 (0.0665)  CE Loss 3.7872 (5.0659)  C-BLEU 0.0846 (0.0497)\tTime 1.193 (0.000)\tData 0.009 (0.000)\t\n",
      "Epoch: [0][199/1762]\tEit 200  lr 0.001  KL Loss 0.0134 (0.0542)  CE Loss 2.3863 (4.5560)  C-BLEU 0.0823 (0.0592)\tTime 1.153 (0.000)\tData 0.007 (0.000)\t\n",
      "Epoch: [0][249/1762]\tEit 250  lr 0.001  KL Loss 0.0073 (0.0456)  CE Loss 1.9956 (4.0790)  C-BLEU 0.1579 (0.0743)\tTime 1.168 (0.000)\tData 0.007 (0.000)\t\n",
      "Epoch: [0][299/1762]\tEit 300  lr 0.001  KL Loss 0.0075 (0.0393)  CE Loss 1.9164 (3.7117)  C-BLEU 0.1678 (0.0894)\tTime 1.181 (0.000)\tData 0.008 (0.000)\t\n",
      "Epoch: [0][349/1762]\tEit 350  lr 0.001  KL Loss 0.0059 (0.0347)  CE Loss 1.6223 (3.4337)  C-BLEU 0.2382 (0.1037)\tTime 1.224 (0.000)\tData 0.008 (0.000)\t\n",
      "Epoch: [0][399/1762]\tEit 400  lr 0.001  KL Loss 0.0057 (0.0312)  CE Loss 1.7158 (3.2124)  C-BLEU 0.2174 (0.1166)\tTime 1.168 (0.000)\tData 0.008 (0.000)\t\n",
      "Epoch: [0][449/1762]\tEit 450  lr 0.001  KL Loss 0.0051 (0.0283)  CE Loss 1.4954 (3.0299)  C-BLEU 0.2657 (0.1298)\tTime 1.182 (0.000)\tData 0.008 (0.000)\t\n",
      "Epoch: [0][499/1762]\tEit 500  lr 0.001  KL Loss 0.0050 (0.0260)  CE Loss 1.3560 (2.8773)  C-BLEU 0.2782 (0.1416)\tTime 1.169 (0.000)\tData 0.005 (0.000)\t\n",
      "Epoch: [0][549/1762]\tEit 550  lr 0.001  KL Loss 0.0084 (0.0243)  CE Loss 1.4874 (2.7545)  C-BLEU 0.2085 (0.1513)\tTime 1.222 (0.000)\tData 0.008 (0.000)\t\n",
      "Epoch: [0][599/1762]\tEit 600  lr 0.001  KL Loss 0.0044 (0.0228)  CE Loss 1.5969 (2.6486)  C-BLEU 0.2258 (0.1601)\tTime 1.156 (0.000)\tData 0.008 (0.000)\t\n",
      "Epoch: [0][649/1762]\tEit 650  lr 0.001  KL Loss 0.0054 (0.0214)  CE Loss 1.8591 (2.5568)  C-BLEU 0.1986 (0.1681)\tTime 1.232 (0.000)\tData 0.012 (0.000)\t\n",
      "Epoch: [0][699/1762]\tEit 700  lr 0.001  KL Loss 0.0055 (0.0202)  CE Loss 1.4965 (2.4725)  C-BLEU 0.2625 (0.1758)\tTime 1.218 (0.000)\tData 0.010 (0.000)\t\n",
      "Epoch: [0][749/1762]\tEit 750  lr 0.001  KL Loss 0.0044 (0.0192)  CE Loss 1.3039 (2.4004)  C-BLEU 0.3043 (0.1828)\tTime 1.207 (0.000)\tData 0.009 (0.000)\t\n",
      "Epoch: [0][799/1762]\tEit 800  lr 0.001  KL Loss 0.0041 (0.0183)  CE Loss 1.3161 (2.3316)  C-BLEU 0.2475 (0.1895)\tTime 1.184 (0.000)\tData 0.008 (0.000)\t\n",
      "Epoch: [0][849/1762]\tEit 850  lr 0.001  KL Loss 0.0044 (0.0174)  CE Loss 1.3948 (2.2699)  C-BLEU 0.2881 (0.1958)\tTime 1.238 (0.000)\tData 0.008 (0.000)\t\n",
      "Epoch: [0][899/1762]\tEit 900  lr 0.001  KL Loss 0.0038 (0.0167)  CE Loss 1.4698 (2.2149)  C-BLEU 0.3113 (0.2014)\tTime 1.171 (0.000)\tData 0.008 (0.000)\t\n",
      "Epoch: [0][949/1762]\tEit 950  lr 0.001  KL Loss 0.0044 (0.0160)  CE Loss 1.2675 (2.1631)  C-BLEU 0.3235 (0.2074)\tTime 1.164 (0.000)\tData 0.011 (0.000)\t\n",
      "Epoch: [0][999/1762]\tEit 1000  lr 0.001  KL Loss 0.0037 (0.0154)  CE Loss 1.2252 (2.1171)  C-BLEU 0.3066 (0.2127)\tTime 1.202 (0.000)\tData 0.008 (0.000)\t\n",
      "Epoch: [0][1049/1762]\tEit 1050  lr 0.001  KL Loss 0.0037 (0.0149)  CE Loss 1.1315 (2.0737)  C-BLEU 0.3190 (0.2182)\tTime 1.201 (0.000)\tData 0.007 (0.000)\t\n",
      "Epoch: [0][1099/1762]\tEit 1100  lr 0.001  KL Loss 0.0033 (0.0144)  CE Loss 1.1652 (2.0332)  C-BLEU 0.3373 (0.2231)\tTime 1.188 (0.000)\tData 0.009 (0.000)\t\n",
      "Epoch: [0][1149/1762]\tEit 1150  lr 0.001  KL Loss 0.0032 (0.0139)  CE Loss 1.2671 (1.9957)  C-BLEU 0.3687 (0.2278)\tTime 1.196 (0.000)\tData 0.008 (0.000)\t\n",
      "Epoch: [0][1199/1762]\tEit 1200  lr 0.001  KL Loss 0.0029 (0.0135)  CE Loss 0.9913 (1.9601)  C-BLEU 0.3826 (0.2323)\tTime 1.185 (0.000)\tData 0.007 (0.000)\t\n",
      "Epoch: [0][1249/1762]\tEit 1250  lr 0.001  KL Loss 0.0034 (0.0131)  CE Loss 1.0984 (1.9279)  C-BLEU 0.3091 (0.2364)\tTime 1.195 (0.000)\tData 0.008 (0.000)\t\n",
      "Epoch: [0][1299/1762]\tEit 1300  lr 0.001  KL Loss 0.0027 (0.0127)  CE Loss 1.0087 (1.8957)  C-BLEU 0.3770 (0.2405)\tTime 1.174 (0.000)\tData 0.009 (0.000)\t\n",
      "Epoch: [0][1349/1762]\tEit 1350  lr 0.001  KL Loss 0.0030 (0.0123)  CE Loss 1.2279 (1.8673)  C-BLEU 0.3150 (0.2444)\tTime 1.199 (0.000)\tData 0.008 (0.000)\t\n",
      "Epoch: [0][1399/1762]\tEit 1400  lr 0.001  KL Loss 0.0030 (0.0120)  CE Loss 0.9555 (1.8397)  C-BLEU 0.3797 (0.2478)\tTime 1.181 (0.000)\tData 0.008 (0.000)\t\n",
      "Epoch: [0][1449/1762]\tEit 1450  lr 0.001  KL Loss 0.0034 (0.0117)  CE Loss 1.3532 (1.8156)  C-BLEU 0.3144 (0.2508)\tTime 1.206 (0.000)\tData 0.009 (0.000)\t\n",
      "Epoch: [0][1499/1762]\tEit 1500  lr 0.001  KL Loss 0.0034 (0.0114)  CE Loss 0.8692 (1.7920)  C-BLEU 0.4214 (0.2536)\tTime 1.172 (0.000)\tData 0.008 (0.000)\t\n",
      "Epoch: [0][1549/1762]\tEit 1550  lr 0.001  KL Loss 0.0037 (0.0112)  CE Loss 1.3969 (1.7690)  C-BLEU 0.2778 (0.2563)\tTime 1.255 (0.000)\tData 0.008 (0.000)\t\n",
      "Epoch: [0][1599/1762]\tEit 1600  lr 0.001  KL Loss 0.0038 (0.0109)  CE Loss 1.1099 (1.7462)  C-BLEU 0.2846 (0.2592)\tTime 1.184 (0.000)\tData 0.008 (0.000)\t\n",
      "Epoch: [0][1649/1762]\tEit 1650  lr 0.001  KL Loss 0.0042 (0.0107)  CE Loss 1.0370 (1.7253)  C-BLEU 0.3369 (0.2618)\tTime 1.174 (0.000)\tData 0.008 (0.000)\t\n",
      "Epoch: [0][1699/1762]\tEit 1700  lr 0.001  KL Loss 0.0030 (0.0105)  CE Loss 1.0384 (1.7049)  C-BLEU 0.3530 (0.2645)\tTime 1.175 (0.000)\tData 0.008 (0.000)\t\n"
     ]
    }
   ],
   "source": [
    "!CUDA_VISIBLE_DEVICES=0 python train.py --batch_size=32 --teacher_forcing_fraction 1.0 --prefix 'eriqg'"
   ]
  }
 ],
 "metadata": {
  "kernelspec": {
   "display_name": "Python 2",
   "language": "python",
   "name": "python2"
  },
  "language_info": {
   "codemirror_mode": {
    "name": "ipython",
    "version": 3
   },
   "file_extension": ".py",
   "mimetype": "text/x-python",
   "name": "python",
   "nbconvert_exporter": "python",
   "pygments_lexer": "ipython3",
   "version": "3.7.4"
  }
 },
 "nbformat": 4,
 "nbformat_minor": 2
}
